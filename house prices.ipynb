{
 "cells": [
  {
   "cell_type": "code",
   "execution_count": 1,
   "id": "b7e58a63",
   "metadata": {},
   "outputs": [],
   "source": [
    "import pandas as pd\n",
    "import numpy as np\n",
    "import seaborn as sns\n",
    "import matplotlib.pyplot as plt\n",
    "from sklearn.model_selection import train_test_split\n",
    "from sklearn.svm import SVC\n",
    "from sklearn.metrics import accuracy_score\n",
    "import pickle"
   ]
  },
  {
   "cell_type": "markdown",
   "id": "7ec55141",
   "metadata": {},
   "source": [
    "### Data Collection"
   ]
  },
  {
   "cell_type": "code",
   "execution_count": 3,
   "id": "247241be",
   "metadata": {},
   "outputs": [
    {
     "name": "stdout",
     "output_type": "stream",
     "text": [
      "Data loaded from C:\\Users\\dell\\Downloads\\weather_prediction_dataset.csv\n",
      "Data Info:\n",
      "<class 'pandas.core.frame.DataFrame'>\n",
      "RangeIndex: 99 entries, 0 to 98\n",
      "Data columns (total 11 columns):\n",
      " #   Column                  Non-Null Count  Dtype  \n",
      "---  ------                  --------------  -----  \n",
      " 0   DATE                    99 non-null     int64  \n",
      " 1   MONTH                   99 non-null     int64  \n",
      " 2   BASEL_cloud_cover       99 non-null     int64  \n",
      " 3   BASEL_humidity          99 non-null     float64\n",
      " 4   BASEL_pressure          99 non-null     float64\n",
      " 5   BASEL_global_radiation  99 non-null     float64\n",
      " 6   BASEL_precipitation     99 non-null     float64\n",
      " 7   BASEL_sunshine          99 non-null     float64\n",
      " 8   BASEL_temp_mean         99 non-null     float64\n",
      " 9   BASEL_temp_min          99 non-null     float64\n",
      " 10  BASEL_temp_max          99 non-null     float64\n",
      "dtypes: float64(8), int64(3)\n",
      "memory usage: 8.6 KB\n",
      "None\n",
      "\n",
      "First 5 rows of the data:\n",
      "       DATE  MONTH  BASEL_cloud_cover  BASEL_humidity  BASEL_pressure  \\\n",
      "0  20000101      1                  8            0.89          1.0286   \n",
      "1  20000102      1                  8            0.87          1.0318   \n",
      "2  20000103      1                  5            0.81          1.0314   \n",
      "3  20000104      1                  7            0.79          1.0262   \n",
      "4  20000105      1                  5            0.90          1.0246   \n",
      "\n",
      "   BASEL_global_radiation  BASEL_precipitation  BASEL_sunshine  \\\n",
      "0                    0.20                 0.03             0.0   \n",
      "1                    0.25                 0.00             0.0   \n",
      "2                    0.50                 0.00             3.7   \n",
      "3                    0.63                 0.35             6.9   \n",
      "4                    0.51                 0.07             3.7   \n",
      "\n",
      "   BASEL_temp_mean  BASEL_temp_min  BASEL_temp_max  \n",
      "0              2.9             1.6             3.9  \n",
      "1              3.6             2.7             4.8  \n",
      "2              2.2             0.1             4.8  \n",
      "3              3.9             0.5             7.5  \n",
      "4              6.0             3.8             8.6  \n"
     ]
    }
   ],
   "source": [
    "import pandas as pd\n",
    "\n",
    "class DataCollector:\n",
    "    def __init__(self, file_path):\n",
    "        self.file_path = file_path\n",
    "        self.data = None\n",
    "\n",
    "\n",
    "    def load_data(self):\n",
    "        # Load the dataset\n",
    "        self.data = pd.read_csv(self.file_path)\n",
    "        print(F\"Data loaded from {self.file_path}\") \n",
    "        return self.data\n",
    "    \n",
    "    def get_data_summary(self):\n",
    "        if self.data is None:\n",
    "            print(\"Data not loaded. Please run load_data()first.\")\n",
    "            return\n",
    "        print(\"Data Info:\")\n",
    "        print(self.data.info())\n",
    "        print(\"\\nFirst 5 rows of the data:\")\n",
    "        print(self.data.head())\n",
    "\n",
    "Collector = DataCollector(\"C:\\\\Users\\\\dell\\\\Downloads\\\\weather_prediction_dataset.csv\")\n",
    "Collector.load_data()\n",
    "Collector.get_data_summary()       "
   ]
  },
  {
   "cell_type": "markdown",
   "id": "2e52c5e6",
   "metadata": {},
   "source": [
    "\n",
    "### Data Understanding"
   ]
  },
  {
   "cell_type": "code",
   "execution_count": 7,
   "id": "ea0c9769",
   "metadata": {},
   "outputs": [
    {
     "name": "stdout",
     "output_type": "stream",
     "text": [
      "Shape of data: (99, 11)\n",
      "\n",
      "Data types:\n",
      " DATE                        int64\n",
      "MONTH                       int64\n",
      "BASEL_cloud_cover           int64\n",
      "BASEL_humidity            float64\n",
      "BASEL_pressure            float64\n",
      "BASEL_global_radiation    float64\n",
      "BASEL_precipitation       float64\n",
      "BASEL_sunshine            float64\n",
      "BASEL_temp_mean           float64\n",
      "BASEL_temp_min            float64\n",
      "BASEL_temp_max            float64\n",
      "dtype: object\n",
      "\n",
      "Statical summary:\n",
      " DATE                      0\n",
      "MONTH                     0\n",
      "BASEL_cloud_cover         0\n",
      "BASEL_humidity            0\n",
      "BASEL_pressure            0\n",
      "BASEL_global_radiation    0\n",
      "BASEL_precipitation       0\n",
      "BASEL_sunshine            0\n",
      "BASEL_temp_mean           0\n",
      "BASEL_temp_min            0\n",
      "BASEL_temp_max            0\n",
      "dtype: int64\n",
      "\n",
      "Msssing values:\n",
      " DATE                      0\n",
      "MONTH                     0\n",
      "BASEL_cloud_cover         0\n",
      "BASEL_humidity            0\n",
      "BASEL_pressure            0\n",
      "BASEL_global_radiation    0\n",
      "BASEL_precipitation       0\n",
      "BASEL_sunshine            0\n",
      "BASEL_temp_mean           0\n",
      "BASEL_temp_min            0\n",
      "BASEL_temp_max            0\n",
      "dtype: int64\n",
      "\n",
      "Statical summary:\n",
      "                DATE      MONTH  BASEL_cloud_cover  BASEL_humidity  \\\n",
      "count  9.900000e+01  99.000000          99.000000       99.000000   \n",
      "mean   2.000023e+07   2.161616           5.818182        0.733434   \n",
      "std    9.525603e+01   0.965814           2.459316        0.098096   \n",
      "min    2.000010e+07   1.000000           0.000000        0.500000   \n",
      "25%    2.000013e+07   1.000000           4.500000        0.665000   \n",
      "50%    2.000022e+07   2.000000           7.000000        0.740000   \n",
      "75%    2.000031e+07   3.000000           8.000000        0.800000   \n",
      "max    2.000041e+07   4.000000           8.000000        0.910000   \n",
      "\n",
      "       BASEL_pressure  BASEL_global_radiation  BASEL_precipitation  \\\n",
      "count       99.000000               99.000000            99.000000   \n",
      "mean         1.023718                0.763232             0.143131   \n",
      "std          0.009018                0.574339             0.264261   \n",
      "min          0.992000                0.060000             0.000000   \n",
      "25%          1.018750                0.330000             0.000000   \n",
      "50%          1.025800                0.560000             0.000000   \n",
      "75%          1.030050                1.070000             0.145000   \n",
      "max          1.039100                2.480000             1.270000   \n",
      "\n",
      "       BASEL_sunshine  BASEL_temp_mean  BASEL_temp_min  BASEL_temp_max  \n",
      "count       99.000000        99.000000       99.000000       99.000000  \n",
      "mean         3.367677         5.369697        2.016162        8.981818  \n",
      "std          3.855921         3.958856        3.664800        4.955174  \n",
      "min          0.000000        -6.800000      -10.600000       -3.700000  \n",
      "25%          0.000000         3.000000        0.300000        5.250000  \n",
      "50%          1.800000         5.600000        2.400000        8.800000  \n",
      "75%          6.900000         8.100000        4.150000       11.700000  \n",
      "max         12.400000        14.100000       10.100000       19.700000  \n",
      "Available columns: ['DATE', 'MONTH', 'BASEL_cloud_cover', 'BASEL_humidity', 'BASEL_pressure', 'BASEL_global_radiation', 'BASEL_precipitation', 'BASEL_sunshine', 'BASEL_temp_mean', 'BASEL_temp_min', 'BASEL_temp_max']\n",
      "Unique values in 'MONTH':\n",
      "[1 2 3 4]\n",
      "Column 'DAY' not found in data.\n"
     ]
    }
   ],
   "source": [
    "class DataUnderstanding:\n",
    "    def __init__(self, data):\n",
    "        self.data = data\n",
    "        \n",
    "    def overview(self):\n",
    "        print(\"Shape of data:\", self.data.shape) \n",
    "        print(\"\\nData types:\\n\", self.data.dtypes)\n",
    "        print(\"\\nStatical summary:\\n\", self.data.isnull().sum())\n",
    "        print(\"\\nMsssing values:\\n\", self.data.isnull().sum())\n",
    "        print(\"\\nStatical summary:\\n\", self.data.describe(include='all'))\n",
    "\n",
    "    def unique_values(self, column):\n",
    "        unique_values = self.data[column].unique()\n",
    "        print(f\"Unique values in '{column}':\\n{unique_values}\")\n",
    "\n",
    "understanding = DataUnderstanding(Collector.data)\n",
    "understanding.overview()\n",
    "print(\"Available columns:\", Collector.data.columns.tolist())\n",
    "if \"MONTH\" in Collector.data.columns:\n",
    "    understanding.unique_values(\"MONTH\")\n",
    "else:\n",
    "    print(\"Column 'MONTH' not found in data.\")\n",
    "if \"DAY\" in Collector.data.columns:\n",
    "    understanding.unique_values(\"DAY\")\n",
    "else:\n",
    "    print(\"Column 'DAY' not found in data.\")\n",
    "\n"
   ]
  },
  {
   "cell_type": "markdown",
   "id": "35284485",
   "metadata": {},
   "source": [
    "### Data Preprocessing"
   ]
  },
  {
   "cell_type": "code",
   "execution_count": 9,
   "id": "bdb35e23",
   "metadata": {},
   "outputs": [
    {
     "name": "stdout",
     "output_type": "stream",
     "text": [
      "       DATE  BASEL_cloud_cover  BASEL_humidity  BASEL_pressure  \\\n",
      "0  0.000000                  8            0.89          1.0286   \n",
      "1  0.003257                  8            0.87          1.0318   \n",
      "2  0.006515                  5            0.81          1.0314   \n",
      "3  0.009772                  7            0.79          1.0262   \n",
      "4  0.013029                  5            0.90          1.0246   \n",
      "\n",
      "   BASEL_global_radiation  BASEL_precipitation  BASEL_sunshine  \\\n",
      "0                    0.20                 0.03             0.0   \n",
      "1                    0.25                 0.00             0.0   \n",
      "2                    0.50                 0.00             3.7   \n",
      "3                    0.63                 0.35             6.9   \n",
      "4                    0.51                 0.07             3.7   \n",
      "\n",
      "   BASEL_temp_mean  BASEL_temp_min  BASEL_temp_max  MONTH_1  MONTH_2  MONTH_3  \\\n",
      "0              2.9             1.6             3.9     True    False    False   \n",
      "1              3.6             2.7             4.8     True    False    False   \n",
      "2              2.2             0.1             4.8     True    False    False   \n",
      "3              3.9             0.5             7.5     True    False    False   \n",
      "4              6.0             3.8             8.6     True    False    False   \n",
      "\n",
      "   MONTH_4  \n",
      "0    False  \n",
      "1    False  \n",
      "2    False  \n",
      "3    False  \n",
      "4    False  \n"
     ]
    },
    {
     "name": "stderr",
     "output_type": "stream",
     "text": [
      "C:\\Users\\dell\\AppData\\Local\\Temp\\ipykernel_2828\\3750683658.py:15: FutureWarning: A value is trying to be set on a copy of a DataFrame or Series through chained assignment using an inplace method.\n",
      "The behavior will change in pandas 3.0. This inplace method will never work because the intermediate object on which we are setting values always behaves as a copy.\n",
      "\n",
      "For example, when doing 'df[col].method(value, inplace=True)', try using 'df.method({col: value}, inplace=True)' or df[col] = df[col].method(value) instead, to perform the operation inplace on the original object.\n",
      "\n",
      "\n",
      "  self.data[col].fillna(mode_value, inplace=True)\n"
     ]
    }
   ],
   "source": [
    "import pandas as pd\n",
    "\n",
    "class DataPreprocessor:\n",
    "    def __init__(self, data):\n",
    "        self.data = data\n",
    "\n",
    "    def remove_duplicates(self, columns):\n",
    "        # Remove duplicate rows\n",
    "        self.data = self.data.drop_duplicates(subset=columns)\n",
    "\n",
    "    def fill_missing_values_mean(self, columns):\n",
    "        # Fill missing values with the mean\n",
    "        for col in columns:\n",
    "            mode_value = self.data[col].mode()[0]\n",
    "            self.data[col].fillna(mode_value, inplace=True)\n",
    "\n",
    "    def encode_categorical(self, columns):\n",
    "        # Encode categorical variables\n",
    "        self.data = pd.get_dummies(self.data, columns=columns)\n",
    "\n",
    "    def normalize_data(self, columns):\n",
    "        # Normalize numerical columns\n",
    "        for col in columns:\n",
    "            min_value = self.data[col].min()\n",
    "            max_value = self.data[col].max()\n",
    "            self.data[col] = (self.data[col] - min_value) / (max_value - min_value)\n",
    "\n",
    "preprocessor = DataPreprocessor(Collector.data)\n",
    "preprocessor.remove_duplicates([\"DATE\"])\n",
    "preprocessor.fill_missing_values_mean([\"DATE\"])\n",
    "\n",
    "# Only encode categorical columns that exist in the data\n",
    "categorical_columns = [col for col in [\"MONTH\", \"DAY\"] if col in preprocessor.data.columns]\n",
    "if categorical_columns:\n",
    "    preprocessor.encode_categorical(categorical_columns)\n",
    "\n",
    "preprocessor.normalize_data([col for col in [\"DATE\", \"TEMP\", \"HUMIDITY\", \"WIND_SPEED\"] if col in preprocessor.data.columns])\n",
    "\n",
    "processd_data = preprocessor.data\n",
    "print(processd_data.head())\n",
    "                        "
   ]
  },
  {
   "cell_type": "markdown",
   "id": "be2bb99c",
   "metadata": {},
   "source": [
    "### Data Spilting"
   ]
  },
  {
   "cell_type": "code",
   "execution_count": 16,
   "id": "c667defa",
   "metadata": {},
   "outputs": [
    {
     "name": "stdout",
     "output_type": "stream",
     "text": [
      "x_train, y_train, x_test, y_test\n"
     ]
    }
   ],
   "source": [
    "from sklearn.model_selection import train_test_split\n",
    "\n",
    "class DataSplitter:\n",
    "    def __init__(self, data, target_column):\n",
    "        self.data = data\n",
    "        self.target_column = target_column\n",
    "\n",
    "    def split(self, test_size=0.2, random_state=42):\n",
    "        x = self.data.drop(columns=[self.target_column])\n",
    "        y = self.data[self.target_column]\n",
    "        x_train, x_test, y_train, y_test = train_test_split(x, y, test_size=test_size, random_state=random_state)\n",
    "\n",
    "        self.x_train = x_train\n",
    "        self.x_test = x_test\n",
    "        self.y_train = y_train\n",
    "        self.y_test = y_test\n",
    "\n",
    "        return x_train, x_test, y_train, y_test\n",
    "\n",
    "splitter = DataSplitter(processd_data, \"BASEL_temp_mean\")\n",
    "x_train, x_test, y_train, y_test = splitter.split()\n",
    "print(\"x_train, y_train, x_test, y_test\")"
   ]
  },
  {
   "cell_type": "markdown",
   "id": "70f61a12",
   "metadata": {},
   "source": [
    "### Data training"
   ]
  },
  {
   "cell_type": "code",
   "execution_count": 19,
   "id": "cc7d73cb",
   "metadata": {},
   "outputs": [
    {
     "name": "stdout",
     "output_type": "stream",
     "text": [
      "SVR model trained successfully.\n",
      "Mean Squared Error: 0.11496485916472785\n",
      "R^2 Score: 0.9912606650261042\n"
     ]
    }
   ],
   "source": [
    "from sklearn.svm import SVR\n",
    "from sklearn.metrics import mean_squared_error, r2_score\n",
    "\n",
    "class ModelTrainer:\n",
    "    def __init__(self, x_train, y_train):\n",
    "        # Drop only columns that exist\n",
    "        cols_to_drop = [col for col in [\"date\", \"street\", \"city\", \"statezip\", \"country\"] if col in x_train.columns]\n",
    "        self.x_train = x_train.drop(columns=cols_to_drop)\n",
    "        self.y_train = y_train\n",
    "        self.model = None\n",
    "\n",
    "    def train_svr(self, kernel='linear', C=1.0):\n",
    "        self.model = SVR(kernel=kernel, C=C)\n",
    "        self.model.fit(self.x_train, self.y_train)\n",
    "        print(\"SVR model trained successfully.\")\n",
    "\n",
    "    def evaluate_model(self, x_test, y_test):\n",
    "        # Drop only columns that exist\n",
    "        cols_to_drop = [col for col in [\"date\", \"street\", \"city\", \"statezip\", \"country\"] if col in x_test.columns]\n",
    "        x_test = x_test.drop(columns=cols_to_drop)\n",
    "        predictions = self.model.predict(x_test)\n",
    "        mse = mean_squared_error(y_test, predictions)\n",
    "        r2 = r2_score(y_test, predictions)\n",
    "        print(f\"Mean Squared Error: {mse}\")\n",
    "        print(f\"R^2 Score: {r2}\")\n",
    "\n",
    "trainer = ModelTrainer(x_train, y_train)\n",
    "trainer.train_svr(kernel='linear', C=1.0)\n",
    "trainer.evaluate_model(x_test, y_test)"
   ]
  },
  {
   "cell_type": "markdown",
   "id": "68f70f03",
   "metadata": {},
   "source": [
    "### Model storage using pickle"
   ]
  },
  {
   "cell_type": "code",
   "execution_count": 20,
   "id": "cc317aa3",
   "metadata": {},
   "outputs": [
    {
     "name": "stdout",
     "output_type": "stream",
     "text": [
      "Model saved to svm_Book1_model.pkl\n",
      "Model loaded from svm_Book1_model.pkl\n"
     ]
    }
   ],
   "source": [
    "import pickle\n",
    "\n",
    "class ModelSaver:\n",
    "    def __init__(self, model):\n",
    "        self.model = model\n",
    "\n",
    "    def save_model(self, filename):\n",
    "        with open(filename, 'wb') as file:\n",
    "            pickle.dump(self.model, file)\n",
    "        print(f\"Model saved to {filename}\")\n",
    "\n",
    "    def load_model(self, filename):\n",
    "        with open(filename, 'rb') as file:\n",
    "            self.model = pickle.load(file)\n",
    "        print(f\"Model loaded from {filename}\")\n",
    "        return self.model\n",
    "    \n",
    "saver = ModelSaver(trainer.model)\n",
    "saver.save_model(\"svm_Book1_model.pkl\")\n",
    "loaded_model = saver.load_model(\"svm_Book1_model.pkl\")"
   ]
  },
  {
   "cell_type": "code",
   "execution_count": null,
   "id": "f5e5b39c",
   "metadata": {},
   "outputs": [],
   "source": []
  }
 ],
 "metadata": {
  "kernelspec": {
   "display_name": "base",
   "language": "python",
   "name": "python3"
  },
  "language_info": {
   "codemirror_mode": {
    "name": "ipython",
    "version": 3
   },
   "file_extension": ".py",
   "mimetype": "text/x-python",
   "name": "python",
   "nbconvert_exporter": "python",
   "pygments_lexer": "ipython3",
   "version": "3.12.4"
  }
 },
 "nbformat": 4,
 "nbformat_minor": 5
}
